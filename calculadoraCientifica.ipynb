{
 "cells": [
  {
   "cell_type": "code",
   "execution_count": null,
   "id": "dabbd1a4",
   "metadata": {},
   "outputs": [],
   "source": [
    "num1 = eval (input(\"Ingresa un numero:\"))\n",
    "\n",
    "if num1 > num1[0:5]:\n",
    "    print(\"El numero es invalido\")\n",
    "    print (input(\"ingresa otro numero:\"))\n",
    "else: \n",
    "    num1<= num1[0:5]\n",
    "num2 = eval (input(\"Ingresa otro numero:\"))\n",
    "    \n",
    "if num2> num2[0:5]:\n",
    "    print(\"El numero es invalido\")\n",
    "    print (input(\"ingresa otro numero:\"))\n",
    "\n",
    "else:\n",
    "    num2<=num2[0:5]\n",
    "    \n",
    "    operation =(input(\"Que operacion deseas realizar? suma, resta, multiplicacion, division o potencia:\"))\n",
    "    \n",
    "if operation == 'suma':\n",
    "    print (int(\"El resultado es:\",num1+num2))\n",
    "    print (type(num1+num2))"
   ]
  }
 ],
 "metadata": {
  "kernelspec": {
   "display_name": "Python 3 (ipykernel)",
   "language": "python",
   "name": "python3"
  },
  "language_info": {
   "codemirror_mode": {
    "name": "ipython",
    "version": 3
   },
   "file_extension": ".py",
   "mimetype": "text/x-python",
   "name": "python",
   "nbconvert_exporter": "python",
   "pygments_lexer": "ipython3",
   "version": "3.11.7"
  }
 },
 "nbformat": 4,
 "nbformat_minor": 5
}
